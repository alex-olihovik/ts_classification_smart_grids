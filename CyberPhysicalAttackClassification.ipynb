{
 "cells": [
  {
   "cell_type": "markdown",
   "id": "a3c4b5f4-2b5b-41fa-b5f2-eb52927d328e",
   "metadata": {
    "tags": []
   },
   "source": [
    "# Dataset\n",
    "\n",
    "The \"Multi-class\" dataset for the following code can be downloaded here:\n",
    "https://sites.google.com/a/uah.edu/tommy-morris-uah/ics-data-sets [2]\n",
    "\n",
    "Convert the individual .arff files to .csv before running this code. Put all .csv files in a single folder and change relevant filepaths within the code that follows. "
   ]
  },
  {
   "cell_type": "markdown",
   "id": "f040895c-04d4-49ab-9dd9-1728ea508c58",
   "metadata": {},
   "source": [
    "Imports and Setup\n",
    "=================="
   ]
  },
  {
   "cell_type": "code",
   "execution_count": 2,
   "id": "03ff6b0f-7eeb-46e9-b5df-7a9812f50ce8",
   "metadata": {
    "tags": []
   },
   "outputs": [],
   "source": [
    "import torch\n",
    "import torch.nn as nn\n",
    "import torchvision.transforms as transforms\n",
    "import torchvision.datasets as dsets\n",
    "\n",
    "import os\n",
    "import glob\n",
    "import pandas as pd\n",
    "from skimage import io, transform\n",
    "import numpy as np\n",
    "import matplotlib.pyplot as plt\n",
    "from torch.utils.data import Dataset, DataLoader\n",
    "from torchvision import utils\n",
    "\n",
    "from sklearn.model_selection import train_test_split \n",
    "\n",
    "from torch.nn import LSTM as lstm\n",
    "\n",
    "import torch.optim as optim\n",
    "from torch.optim import lr_scheduler\n",
    "import time\n",
    "from tempfile import TemporaryDirectory\n",
    "\n",
    "from imblearn.over_sampling import BorderlineSMOTE\n",
    "\n",
    "# Ignore warnings\n",
    "import warnings\n",
    "warnings.filterwarnings(\"ignore\")\n",
    "\n",
    "plt.ion()   # interactive mode\n",
    "%matplotlib inline"
   ]
  },
  {
   "cell_type": "code",
   "execution_count": null,
   "id": "4ebb19ec-adfd-407f-ba82-9d891dd004e4",
   "metadata": {},
   "outputs": [],
   "source": [
    "device = torch.device(\"cuda\" if torch.cuda.is_available() else \"cpu\")\n",
    "print(device)"
   ]
  },
  {
   "cell_type": "markdown",
   "id": "57e6988c-4eff-4e24-9a70-4de5b1b756bb",
   "metadata": {
    "tags": []
   },
   "source": [
    "Dataset Class\n",
    "=============\n"
   ]
  },
  {
   "cell_type": "code",
   "execution_count": 3,
   "id": "2bc6cc56-d83b-42e8-b276-9d425d5f35f8",
   "metadata": {
    "tags": []
   },
   "outputs": [],
   "source": [
    "class banpnvs_dataset(Dataset):\n",
    "    \"\"\" binaryAllNaturalPlusNormalVsAttacks_CSV dataset (banpnvs), converted from .arff to .csv. \"\"\"\n",
    "\n",
    "    def __init__(self, root_dir, transform=None):\n",
    "        \"\"\"\n",
    "        Arguments:\n",
    "            root_dir (string): Directory with all the CSV data.\n",
    "            transform (callable, optional): Optional transform to be applied\n",
    "                on a sample.\n",
    "        \"\"\"\n",
    "        \n",
    "        result = glob.glob(root_dir+'*.{}'.format('csv'))\n",
    "        dfs = []\n",
    "        for f in result: \n",
    "            df = pd.read_csv(f)\n",
    "            df['group'] = df['marker'].ne(df['marker'].shift()).cumsum()\n",
    "            df = df.groupby('group')\n",
    "            for name, data in df:\n",
    "                dfs.append(data)\n",
    "            \n",
    "        self.banpnvs_frame = dfs\n",
    "        self.root_dir = root_dir\n",
    "        self.transform = transform\n",
    "\n",
    "    def __len__(self):\n",
    "        return len(self.banpnvs_frame)\n",
    "\n",
    "    def __getitem__(self, idx):\n",
    "        \"\"\" Each data sample is a time-series waveform \"\"\"\n",
    "        if torch.is_tensor(idx):\n",
    "            idx = idx.tolist()\n",
    "        \n",
    "        sample = self.banpnvs_frame[idx]\n",
    "\n",
    "        if self.transform:\n",
    "            sample = self.transform(sample)\n",
    "\n",
    "        return sample"
   ]
  },
  {
   "cell_type": "markdown",
   "id": "0557d11d-6c4f-4011-a29e-8993ccc04230",
   "metadata": {},
   "source": [
    "# Data Preprocessing and Transforms\n",
    "\n",
    "\n",
    "## Missing Data Values\n",
    "There are instances in the dataset where data has either not been recorded, or captured in a faulty way. When these instances happen, errors in data capture must be handled. The four ways considered are replacing the missing or NaN value the median, mean, or zero, or to drop the sample entirely. Since [1] found that replacing the missing or NaN value with zero provided the best accuracy, that method was chosen. However, the difference between the best and worst methods of replacement only affected the results by at most 0.52%. \n",
    "\n",
    "\n",
    "## Class Imbalance\n",
    "While the number of realizations of each type of event scenarios produces an almost uniformly-distributed histogram, the individual realizations themselves are not the same length. For example, the both event scenarios 41 (\"No event\") and 40 (\"L1 maintenance with R1 and R2 disabled\") occurs 15 times in the data, but the sum of all individual datum in class 41 more than doubles those found in class 40. For this reason, oversampling is performed to even the number of data points per class overall. The Borderline SMOTE algorithm is chosen for reasons listed in [1], but some initialization parameters, such as the number of nearest neighbors, need to be assumed. \n",
    "\n",
    "\n",
    "## Data Scaling\n",
    "Input features should be scaled to the same magnitude with zero mean and unit variance as to not bias the model's result towards one input feature based on its raw value alone. The standard scaler was found by [1] to produce the best results, and thus this method was chosen. The standard scaler is written as: \n",
    "$$\n",
    "\\begin{aligned}\n",
    "  \\frac{x_i - \\bar{x}}{\\sigma}\n",
    "\\end{aligned}\n",
    "$$\n",
    "\n"
   ]
  },
  {
   "cell_type": "code",
   "execution_count": 31,
   "id": "a0ff5d16-c0f1-4391-83de-d82621f07d3f",
   "metadata": {
    "tags": []
   },
   "outputs": [],
   "source": [
    "class ReplaceWithZero(object):\n",
    "    \"\"\" Replace NaN values with zero and insert zeroes where data is missing. \"\"\"\n",
    "    def __call__(self, sample):  \n",
    "        # sample is a dataframe\n",
    "        return sample.fillna(0) #np.nan_to_num(sample)\n",
    "\n",
    "    \n",
    "class BalanceClasses(object):\n",
    "    \"\"\" \n",
    "    Add more instances of classes (indicated by field 'marker') so that all classes have the same number of realizations. \n",
    "    Resample via Borderline Smote algorithm. \n",
    "    \"\"\"\n",
    "    def __call__(self, sample):\n",
    "        resampled = BorderlineSMOTE().fit_resample(sample)\n",
    "        return resampled\n",
    "\n",
    "    \n",
    "class StandardScaler(object):\n",
    "    \"\"\" Scale input features to the same magnitude with zero mean and unit variance. \"\"\"\n",
    "    def __call__(self, sample):\n",
    "        normalized_sample = (sample - np.mean(sample)) / np.std(sample)\n",
    "        return normalized_sample\n",
    "\n",
    "    \n",
    "class FeatureSelection(object):\n",
    "    \"\"\" Select which features to use as input into model. \"\"\"\n",
    "\n",
    "    def __call__(self, sample):\n",
    "        return sample.drop(columns=['control_panel_log1','control_panel_log2','control_panel_log3','control_panel_log4','relay1_log','relay2_log','relay3_log','relay4_log','snort_log1','snort_log2','snort_log3','snort_log4'])"
   ]
  },
  {
   "cell_type": "code",
   "execution_count": 32,
   "id": "52162e6a-2a64-4f08-bed2-ac863c4b5363",
   "metadata": {
    "tags": []
   },
   "outputs": [],
   "source": [
    "banpnvs_data = banpnvs_dataset(root_dir='data/binaryAllNaturalPlusNormalVsAttacks_CSV/')\n",
    "composed = transforms.Compose([FeatureSelection(), ReplaceWithZero(), BalanceClasses(), StandardScaler()])"
   ]
  },
  {
   "cell_type": "markdown",
   "id": "24a60916-f6f0-4962-a789-ab452b56cd82",
   "metadata": {
    "tags": []
   },
   "source": [
    "### Single data example and is transform"
   ]
  },
  {
   "cell_type": "code",
   "execution_count": 33,
   "id": "f75a17a6-456d-4638-8078-2a7de8255dcb",
   "metadata": {
    "tags": []
   },
   "outputs": [
    {
     "name": "stdout",
     "output_type": "stream",
     "text": [
      "<class 'pandas.core.frame.DataFrame'>\n",
      "(173, 131)\n",
      "<class 'pandas.core.frame.DataFrame'>\n",
      "(173, 119)\n"
     ]
    }
   ],
   "source": [
    "sample = banpnvs_data[0]\n",
    "print(type(sample))\n",
    "print(sample.shape)\n",
    "sample = composed(banpnvs_data[0])\n",
    "print(type(sample))\n",
    "print(sample.shape)"
   ]
  },
  {
   "cell_type": "markdown",
   "id": "035b65ff-971f-43fb-aa9c-513af0dcfe3a",
   "metadata": {
    "tags": []
   },
   "source": [
    "### Simple for-loop-based iteration over dataset"
   ]
  },
  {
   "cell_type": "code",
   "execution_count": 34,
   "id": "dcfca12b-2008-44d6-8bb2-ef8f99c60fe3",
   "metadata": {
    "tags": []
   },
   "outputs": [
    {
     "name": "stdout",
     "output_type": "stream",
     "text": [
      "0 <class 'pandas.core.frame.DataFrame'> 20587 41\n",
      "1 <class 'pandas.core.frame.DataFrame'> 16184 40\n",
      "2 <class 'pandas.core.frame.DataFrame'> 16184 39\n",
      "3 <class 'pandas.core.frame.DataFrame'> 33915 38\n"
     ]
    }
   ],
   "source": [
    "transformed_dataset = banpnvs_dataset(root_dir='data/binaryAllNaturalPlusNormalVsAttacks_CSV/',\n",
    "                                           transform=transforms.Compose([\n",
    "                                               FeatureSelection(),\n",
    "                                               ReplaceWithZero(),\n",
    "                                               BalanceClasses(),\n",
    "                                               StandardScaler()\n",
    "                                           ]))\n",
    "\n",
    "for i, sample in enumerate(transformed_dataset):\n",
    "    #print(sample['marker'][0])\n",
    "    print(i, type(sample), sample.size, sample['marker'].iloc[0])\n",
    "\n",
    "    if i == 3:\n",
    "        break"
   ]
  },
  {
   "cell_type": "code",
   "execution_count": 228,
   "id": "47869db5-405f-494a-be2f-e65a78530a0e",
   "metadata": {
    "tags": []
   },
   "outputs": [
    {
     "data": {
      "text/plain": [
       "<__main__.banpnvs at 0x21d5ea809c8>"
      ]
     },
     "execution_count": 228,
     "metadata": {},
     "output_type": "execute_result"
    }
   ],
   "source": [
    "transformed_dataset"
   ]
  },
  {
   "cell_type": "markdown",
   "id": "4bd71880-4b6d-4928-a85b-3b8ba5be47d5",
   "metadata": {},
   "source": [
    "## Transforms for Training, Validation, and Test Sets"
   ]
  },
  {
   "cell_type": "code",
   "execution_count": 37,
   "id": "c5c23e5e-d076-4b78-a0b1-84a0d980dacc",
   "metadata": {
    "tags": []
   },
   "outputs": [],
   "source": [
    "data_transforms = {\n",
    "    'train': transforms.Compose([\n",
    "        FeatureSelection(),\n",
    "        ReplaceWithZero(),\n",
    "        BalanceClasses(),\n",
    "        StandardScaler()\n",
    "    ]),\n",
    "    'val': transforms.Compose([\n",
    "        FeatureSelection(),\n",
    "        ReplaceWithZero(),\n",
    "        BalanceClasses(),\n",
    "        StandardScaler()\n",
    "    ]),\n",
    "    'test': transforms.Compose([\n",
    "        FeatureSelection(),\n",
    "        ReplaceWithZero(),\n",
    "        BalanceClasses(), # Potentially exclude this from test set\n",
    "        StandardScaler() # Potentially exclude this from test set\n",
    "    ]),\n",
    "}"
   ]
  },
  {
   "cell_type": "code",
   "execution_count": null,
   "id": "e7537fae-77b8-4c9a-bae2-fc0f1c5ec2ff",
   "metadata": {
    "tags": []
   },
   "outputs": [],
   "source": [
    "data_dir = 'data/binaryAllNaturalPlusNormalVsAttacks_CSV/'\n",
    "image_datasets = {x: datasets.ImageFolder(os.path.join(data_dir, x),\n",
    "                                          data_transforms[x])\n",
    "                  for x in ['train', 'val']}\n",
    "dataloaders = {x: torch.utils.data.DataLoader(image_datasets[x], batch_size=4,\n",
    "                                             shuffle=True, num_workers=4)\n",
    "              for x in ['train', 'val']}\n",
    "dataset_sizes = {x: len(image_datasets[x]) for x in ['train', 'val']}\n",
    "class_names = image_datasets['train'].classes\n"
   ]
  },
  {
   "cell_type": "code",
   "execution_count": null,
   "id": "e0fab835-f2a1-4ff3-a4e6-6eb06da20ff1",
   "metadata": {},
   "outputs": [],
   "source": [
    "## Create Training, Testing, and Valudation Sets"
   ]
  },
  {
   "cell_type": "code",
   "execution_count": null,
   "id": "45fd6212-4367-4b9f-8adb-73fed5a88284",
   "metadata": {},
   "outputs": [],
   "source": [
    "path = 'data/binaryAllNaturalPlusNormalVsAttacks_CSV/'\n",
    "extension = 'csv'\n",
    "result = glob.glob(path+'*.{}'.format(extension))\n",
    "train_result = result[:12]\n",
    "dfs_xtrain = []\n",
    "dfs_ytrain = []\n",
    "sid = 0\n",
    "for x in train_result: \n",
    "    df = pd.read_csv(x)\n",
    "    dfs_xtrain.append(df)\n",
    "\n",
    "dfs_xtrain = pd.concat(dfs_xtrain)\n",
    "\n",
    "\n",
    "\n",
    "dfs_xtrain['series_id'] = \"\"\n",
    "inc = 0\n",
    "val = 0\n",
    "cii = dfs_xtrain['marker'].iloc[0]\n",
    "for ii in dfs_xtrain['marker']:\n",
    "    if ii != cii:\n",
    "        cii = ii\n",
    "        print(\"1. Resetting at inc \" + str(inc) + \" and val \" + str(val))\n",
    "        val = val + 1        \n",
    "    dfs_xtrain.at[inc,'series_id'] = val\n",
    "    inc = inc + 1\n",
    "\n",
    "\n",
    "dfs_xtrain['measurement_number'] = \"\"\n",
    "inc = 0\n",
    "val = 0\n",
    "cii = dfs_xtrain['marker'].iloc[0]\n",
    "for ii in dfs_xtrain['marker']:\n",
    "    #print(ii)\n",
    "    if ii != cii:\n",
    "        cii = ii\n",
    "        print(\"2. Resetting at inc \" + str(inc) + \" and val \" + str(val))\n",
    "        val = 0\n",
    "    else:\n",
    "        val = val + 1\n",
    "    dfs_xtrain.at[inc, 'measurement_number'] = val\n",
    "    inc = inc + 1\n"
   ]
  },
  {
   "cell_type": "markdown",
   "id": "9ce875b8-fb76-4dd9-ba51-c2ba004a08df",
   "metadata": {
    "tags": []
   },
   "source": [
    "## LSTM Model"
   ]
  },
  {
   "cell_type": "code",
   "execution_count": null,
   "id": "b3b367e2-5cad-44db-b995-0a4868aa35dc",
   "metadata": {},
   "outputs": [],
   "source": [
    "class LSTMClassifier(nn.Module):\n",
    "    \"\"\"Very simple implementation of LSTM-based time-series classifier.\"\"\"\n",
    "    \n",
    "    def __init__(self, input_dim, hidden_dim, layer_dim, output_dim):\n",
    "        super().__init__()\n",
    "        self.hidden_dim = hidden_dim\n",
    "        self.layer_dim = layer_dim\n",
    "        self.rnn = nn.LSTM(input_dim, hidden_dim, layer_dim, batch_first=True)\n",
    "        self.fc = nn.Linear(hidden_dim, output_dim)\n",
    "        self.batch_size = None\n",
    "        self.hidden = None\n",
    "    \n",
    "    def forward(self, x):\n",
    "        h0, c0 = self.init_hidden(x)\n",
    "        out, (hn, cn) = self.rnn(x, (h0, c0))\n",
    "        out = self.fc(out[:, -1, :])\n",
    "        return out\n",
    "    \n",
    "    def init_hidden(self, x):\n",
    "        h0 = torch.zeros(self.layer_dim, x.size(0), self.hidden_dim, device=x.device)\n",
    "        c0 = torch.zeros(self.layer_dim, x.size(0), self.hidden_dim, device=x.device)\n",
    "        return (h0, c0)"
   ]
  },
  {
   "cell_type": "markdown",
   "id": "9b2c2a4b-539d-4310-a83c-32989cb8f1ea",
   "metadata": {},
   "source": [
    "### Visualize Mode Structure"
   ]
  },
  {
   "cell_type": "code",
   "execution_count": null,
   "id": "2a42f6b3-e05f-41ea-a1dc-4c15fca6056a",
   "metadata": {},
   "outputs": [],
   "source": [
    "import hiddenlayer as hl\n",
    "\n",
    "transforms = [ hl.transforms.Prune('Constant') ] # Removes Constant nodes from graph.\n",
    "\n",
    "\n",
    "input_dim = 117    \n",
    "hidden_dim = 256\n",
    "layer_dim = 3\n",
    "output_dim = 9\n",
    "seq_dim = 128\n",
    "\n",
    "model = LSTMClassifier(input_dim, hidden_dim, layer_dim, output_dim)\n",
    "\n",
    "\n",
    "graph = hl.build_graph(model, args=torch.zeros(1, 1, input_dim), transforms=transforms)\n",
    "graph.theme = hl.graph.THEMES['blue'].copy()\n",
    "graph.save('lstm_hiddenlayer', format='png')"
   ]
  },
  {
   "cell_type": "code",
   "execution_count": null,
   "id": "4731cf9b-3176-4526-8478-340052bfb633",
   "metadata": {},
   "outputs": [],
   "source": [
    "print('Preparing datasets')\n",
    "trn_ds, val_ds, enc = create_datasets(x_trn, y_trn['marker'])"
   ]
  },
  {
   "cell_type": "markdown",
   "id": "14e69eae-45d7-4fc6-9553-2cc7aa8e7cd5",
   "metadata": {},
   "source": [
    "### Training the model"
   ]
  },
  {
   "cell_type": "code",
   "execution_count": 12,
   "id": "f9b1980b-8be3-4c7a-9d43-65688c1b661e",
   "metadata": {
    "tags": []
   },
   "outputs": [],
   "source": [
    "input_dim = 10    \n",
    "hidden_dim = 256\n",
    "layer_dim = 3\n",
    "output_dim = 9\n",
    "seq_dim = 128\n",
    "\n",
    "lr = 0.0005\n",
    "n_epochs = 1000\n",
    "iterations_per_epoch = len(trn_dl)\n",
    "best_acc = 0\n",
    "patience, trials = 100, 0\n",
    "\n",
    "model = LSTMClassifier(input_dim, hidden_dim, layer_dim, output_dim)\n",
    "model.cuda()\n",
    "criterion = nn.CrossEntropyLoss()\n",
    "opt = torch.optim.RMSprop(model.parameters(), lr=lr)\n",
    "sched = CyclicLR(opt, cosine(t_max=iterations_per_epoch * 2, eta_min=lr/100))\n",
    "\n",
    "\n",
    "print('Start model training')\n",
    "\n",
    "for epoch in range(1, n_epochs + 1):\n",
    "    \n",
    "    for i, (x_batch, y_batch) in enumerate(trn_dl):\n",
    "        model.train()\n",
    "        x_batch = x_batch.cuda()\n",
    "        y_batch = y_batch.cuda()\n",
    "        sched.step()\n",
    "        opt.zero_grad()\n",
    "        out = model(x_batch)\n",
    "        loss = criterion(out, y_batch)\n",
    "        loss.backward()\n",
    "        opt.step()\n",
    "    \n",
    "    model.eval()\n",
    "    correct, total = 0, 0\n",
    "    for x_val, y_val in val_dl:\n",
    "        x_val, y_val = [t.cuda() for t in (x_val, y_val)]\n",
    "        out = model(x_val)\n",
    "        preds = F.log_softmax(out, dim=1).argmax(dim=1)\n",
    "        total += y_val.size(0)\n",
    "        correct += (preds == y_val).sum().item()\n",
    "    \n",
    "    acc = correct / total\n",
    "\n",
    "    if epoch % 5 == 0:\n",
    "        print(f'Epoch: {epoch:3d}. Loss: {loss.item():.4f}. Acc.: {acc:2.2%}')\n",
    "\n",
    "    if acc > best_acc:\n",
    "        trials = 0\n",
    "        best_acc = acc\n",
    "        torch.save(model.state_dict(), 'best_lstm.pth')\n",
    "        print(f'Epoch {epoch} best model saved with accuracy: {best_acc:2.2%}')\n",
    "    else:\n",
    "        trials += 1\n",
    "        if trials >= patience:\n",
    "            print(f'Early stopping on epoch {epoch}')\n",
    "            break"
   ]
  },
  {
   "cell_type": "markdown",
   "id": "c74b27ca-9c1a-4310-8023-523895df21e8",
   "metadata": {},
   "source": [
    "### Train and evaluate"
   ]
  },
  {
   "cell_type": "code",
   "execution_count": 28,
   "id": "4351cab0-5fee-4529-96b4-66c8a62f051e",
   "metadata": {
    "tags": []
   },
   "outputs": [
    {
     "name": "stdout",
     "output_type": "stream",
     "text": [
      "Epoch 0/24\n",
      "----------\n"
     ]
    },
    {
     "ename": "NameError",
     "evalue": "name 'dataloaders' is not defined",
     "output_type": "error",
     "traceback": [
      "\u001b[1;31m---------------------------------------------------------------------------\u001b[0m",
      "\u001b[1;31mNameError\u001b[0m                                 Traceback (most recent call last)",
      "\u001b[1;32m~\\AppData\\Local\\Temp\\ipykernel_36840\\2182967272.py\u001b[0m in \u001b[0;36m<module>\u001b[1;34m\u001b[0m\n\u001b[0;32m      1\u001b[0m model_ft = train_model(model_ft, criterion, optimizer_ft, exp_lr_scheduler,\n\u001b[1;32m----> 2\u001b[1;33m                        num_epochs=25)\n\u001b[0m",
      "\u001b[1;32m~\\AppData\\Local\\Temp\\ipykernel_36840\\1058781594.py\u001b[0m in \u001b[0;36mtrain_model\u001b[1;34m(model, criterion, optimizer, scheduler, num_epochs)\u001b[0m\n\u001b[0;32m     24\u001b[0m \u001b[1;33m\u001b[0m\u001b[0m\n\u001b[0;32m     25\u001b[0m                 \u001b[1;31m# Iterate over data.\u001b[0m\u001b[1;33m\u001b[0m\u001b[1;33m\u001b[0m\u001b[1;33m\u001b[0m\u001b[0m\n\u001b[1;32m---> 26\u001b[1;33m                 \u001b[1;32mfor\u001b[0m \u001b[0minputs\u001b[0m\u001b[1;33m,\u001b[0m \u001b[0mlabels\u001b[0m \u001b[1;32min\u001b[0m \u001b[0mdataloaders\u001b[0m\u001b[1;33m[\u001b[0m\u001b[0mphase\u001b[0m\u001b[1;33m]\u001b[0m\u001b[1;33m:\u001b[0m\u001b[1;33m\u001b[0m\u001b[1;33m\u001b[0m\u001b[0m\n\u001b[0m\u001b[0;32m     27\u001b[0m                     \u001b[0minputs\u001b[0m \u001b[1;33m=\u001b[0m \u001b[0minputs\u001b[0m\u001b[1;33m.\u001b[0m\u001b[0mto\u001b[0m\u001b[1;33m(\u001b[0m\u001b[0mdevice\u001b[0m\u001b[1;33m)\u001b[0m\u001b[1;33m\u001b[0m\u001b[1;33m\u001b[0m\u001b[0m\n\u001b[0;32m     28\u001b[0m                     \u001b[0mlabels\u001b[0m \u001b[1;33m=\u001b[0m \u001b[0mlabels\u001b[0m\u001b[1;33m.\u001b[0m\u001b[0mto\u001b[0m\u001b[1;33m(\u001b[0m\u001b[0mdevice\u001b[0m\u001b[1;33m)\u001b[0m\u001b[1;33m\u001b[0m\u001b[1;33m\u001b[0m\u001b[0m\n",
      "\u001b[1;31mNameError\u001b[0m: name 'dataloaders' is not defined"
     ]
    }
   ],
   "source": [
    "model_ft = train_model(model_ft, criterion, optimizer_ft, exp_lr_scheduler,\n",
    "                       num_epochs=25)"
   ]
  },
  {
   "cell_type": "code",
   "execution_count": 124,
   "id": "b532daf5-8c67-4f9f-bbb4-22b09504792b",
   "metadata": {
    "tags": []
   },
   "outputs": [],
   "source": [
    "# # Reproduce Fig. 2 from [1]\n",
    "\n",
    "# s = set()\n",
    "# for x in dfs:\n",
    "#     mkr = x['marker'].iloc[0] \n",
    "#     s.add(mkr)\n",
    "\n",
    "# #print(s)\n",
    "\n",
    "\n",
    "# cd = np.zeros(shape=(len(s),2), dtype=int)\n",
    "# cd[:, 0] = np.array(list(s))\n",
    "# #print(cd)\n",
    "\n",
    "# # This is not efficient... but it only ever runs once!\n",
    "# for x in dfs:\n",
    "#     mkr = x['marker'].iloc[0] \n",
    "#     idx = np.nonzero(cd[:, 0] == mkr)\n",
    "#     cd[idx, 1] = cd[idx, 1]+1;\n",
    "\n",
    "# #print(cd)\n",
    "\n",
    "\n",
    "\n",
    "\n",
    "# bin_edges_low = cd[:, 0]-0.5\n",
    "# bin_edges_high = cd[:, 0]+0.5\n",
    "# bin_edges = np.concatenate((bin_edges_low, bin_edges_high))\n",
    "# bin_edges = np.sort(bin_edges)\n",
    "\n",
    "\n",
    "# fig, ax = plt.subplots()\n",
    "\n",
    "# # the histogram of the data\n",
    "# n, bins, patches = ax.hist(cd[:,1], bin_edges, density=True)\n",
    "\n",
    "\n",
    "# ax.set_xlabel('Classes')\n",
    "# ax.set_ylabel('Data Samples')\n",
    "# ax.set_title('Class Distribution before Resampling')\n",
    "\n",
    "# # Tweak spacing to prevent clipping of ylabel\n",
    "# fig.tight_layout()\n",
    "# plt.show()"
   ]
  },
  {
   "cell_type": "code",
   "execution_count": 45,
   "id": "e069a300-b495-459a-b887-8cf44baba4e3",
   "metadata": {
    "tags": []
   },
   "outputs": [
    {
     "data": {
      "image/png": "[encoded data removed]",
      "text/plain": [
       "<Figure size 640x480 with 1 Axes>"
      ]
     },
     "metadata": {},
     "output_type": "display_data"
    }
   ],
   "source": [
    "# Reproduce Fig. 2 from [1]\n",
    "# Oddly enough, it was found that the classes were almost uniformly distributed. \n",
    "# Either the original paper's 80%/20% split of training/testing data was performed without taking class distribution into account, \n",
    "# or they use \"samples\" as individual data points. The latter seems most likely. \n",
    "\n",
    "s = set()\n",
    "for x in dfs:\n",
    "    mkr = x['marker'].iloc[0] \n",
    "    s.add(mkr)\n",
    "\n",
    "cd = np.zeros(shape=(len(s),2), dtype=int)\n",
    "cd[:, 0] = np.array(list(s))\n",
    "\n",
    "# This is not efficient... but it only ever runs once!\n",
    "for x in dfs:\n",
    "    mkr = x['marker'].iloc[0] \n",
    "    idx = np.nonzero(cd[:, 0] == mkr)\n",
    "    cd[idx, 1] = cd[idx, 1]+1;\n",
    "\n",
    "\n",
    "fig, ax = plt.subplots()\n",
    "ax.bar(cd[:,0], cd[:,1])\n",
    "ax.set_xlabel('Class')\n",
    "ax.set_ylabel('Class Instances')\n",
    "ax.set_title('Class Distribution before Resampling')\n",
    "\n",
    "# Tweak spacing to prevent clipping of ylabel\n",
    "fig.tight_layout()\n",
    "plt.show()"
   ]
  },
  {
   "cell_type": "code",
   "execution_count": 46,
   "id": "c63b7c69-6731-42d3-a0ad-a691979a64b6",
   "metadata": {
    "tags": []
   },
   "outputs": [
    {
     "data": {
      "image/png": "[encoded data removed]",
      "text/plain": [
       "<Figure size 640x480 with 1 Axes>"
      ]
     },
     "metadata": {},
     "output_type": "display_data"
    }
   ],
   "source": [
    "# Reproduce Fig. 2 from [1]\n",
    "# This is now the correct reproduction of the original figure. \n",
    "\n",
    "s = set()\n",
    "for x in dfs:\n",
    "    mkr = x['marker'].iloc[0] \n",
    "    s.add(mkr)\n",
    "\n",
    "cd = np.zeros(shape=(len(s),2), dtype=int)\n",
    "cd[:, 0] = np.array(list(s))\n",
    "\n",
    "# This is not efficient... but it only ever runs once!\n",
    "for x in dfs:\n",
    "    mkr = x['marker'].iloc[0] \n",
    "    idx = np.nonzero(cd[:, 0] == mkr)\n",
    "    cd[idx, 1] = cd[idx, 1]+len(x);\n",
    "\n",
    "\n",
    "fig, ax = plt.subplots()\n",
    "ax.bar(cd[:,0], cd[:,1])\n",
    "ax.set_xlabel('Class')\n",
    "ax.set_ylabel('Data Samples')\n",
    "ax.set_title('Samples Per Class before Resampling')\n",
    "\n",
    "# Tweak spacing to prevent clipping of ylabel\n",
    "fig.tight_layout()\n",
    "plt.show()"
   ]
  },
  {
   "cell_type": "code",
   "execution_count": 47,
   "id": "5576f10a-8b02-4d9a-a877-1170a1cb4e72",
   "metadata": {
    "tags": []
   },
   "outputs": [
    {
     "data": {
      "image/png": "[encoded data removed]",
      "text/plain": [
       "<Figure size 640x480 with 1 Axes>"
      ]
     },
     "metadata": {},
     "output_type": "display_data"
    }
   ],
   "source": [
    "# Reproduce Fig. 2 from [1]\n",
    "# This is now the correct reproduction of the original figure. \n",
    "\n",
    "s = set()\n",
    "for x in dfs:\n",
    "    mkr = x['marker'].iloc[0] \n",
    "    s.add(mkr)\n",
    "\n",
    "cd = np.zeros(shape=(len(s),2), dtype=int)\n",
    "cd[:, 0] = np.array(list(s))\n",
    "\n",
    "# This is not efficient... but it only ever runs once!\n",
    "for x in dfs:\n",
    "    mkr = x['marker'].iloc[0] \n",
    "    idx = np.nonzero(cd[:, 0] == mkr)\n",
    "    cd[idx, 1] = 4685;\n",
    "\n",
    "\n",
    "fig, ax = plt.subplots()\n",
    "ax.bar(cd[:,0], cd[:,1])\n",
    "ax.set_xlabel('Class')\n",
    "ax.set_ylabel('Data Samples')\n",
    "ax.set_title('Samples Per Class after Resampling with BorderlineSMOTE')\n",
    "\n",
    "# Tweak spacing to prevent clipping of ylabel\n",
    "fig.tight_layout()\n",
    "plt.show()"
   ]
  },
  {
   "cell_type": "markdown",
   "id": "ca37d1ba-e9bc-4d95-97e7-051e23f9f667",
   "metadata": {},
   "source": [
    "# References\n",
    "\n",
    "[1] Y. A. Farrukh, Z. Ahmad, I. Khan and R. M. Elavarasan, \"A Sequential Supervised Machine Learning Approach for Cyber Attack Detection in a Smart Grid System,\" 2021 North American Power Symposium (NAPS), College Station, TX, USA, 2021, pp. 1-6, doi: 10.1109/NAPS52732.2021.9654767.\n",
    "\n",
    "[2] U. Adhikari, S. Pan, T. Moris, R. Borges, and J. Beaver , “Industrial Control System (ICS) Cyber Attack Datasets,” Tommy Morris. 2016. [Online]. Available: https://www.sites.google.com/a/uah.edu/tommymorris-uah/ics-data-sets\n",
    "\n",
    "[3] Elmrabit, N, Zhou, F, Li, F & Zhou, H 2020, Evaluation of machine learning algorithms for anomaly detection. in2020 International Conference on Cyber Security and Protection of Digital Services (Cyber Security)., 9138871,IEEE, International Conference on Cyber Security and Protection of Digital Services, 15/06/20\n",
    "\n",
    "[4] S. Pan, T. Morris and U. Adhikari, \"Developing a Hybrid Intrusion Detection System Using Data Mining for Power Systems,\" in IEEE Transactions on Smart Grid, vol. 6, no. 6, pp. 3104-3113, Nov. 2015, doi: 10.1109/TSG.2015.2409775. \n",
    "\n"
   ]
  },
  {
   "cell_type": "markdown",
   "id": "8e98bed4-e025-45b7-abda-2f7af4b5497c",
   "metadata": {},
   "source": [
    "### Code used as references\n",
    "https://github.com/ritchieng/deep-learning-wizard/blob/master/docs/deep_learning/practical_pytorch/pytorch_lstm_neuralnetwork.ipynb\n",
    "\n",
    "https://pytorch.org/tutorials/beginner/nlp/sequence_models_tutorial.html\n",
    "\n",
    "https://pytorch.org/tutorials/beginner/data_loading_tutorial.html#dataset-class\n",
    "\n",
    "https://pytorch.org/tutorials/beginner/transfer_learning_tutorial.html\n",
    "\n",
    "https://pytorch.org/vision/stable/models.html#classification\n",
    "\n",
    "https://machinelearningmastery.com/lstm-for-time-series-prediction-in-pytorch/\n",
    "\n",
    "https://www.kaggle.com/code/purplejester/a-simple-lstm-based-time-series-classifier/notebook"
   ]
  }
 ],
 "metadata": {
  "kernelspec": {
   "display_name": "Python (islp_copy)",
   "language": "python",
   "name": "islp_copy"
  },
  "language_info": {
   "codemirror_mode": {
    "name": "ipython",
    "version": 3
   },
   "file_extension": ".py",
   "mimetype": "text/x-python",
   "name": "python",
   "nbconvert_exporter": "python",
   "pygments_lexer": "ipython3",
   "version": "3.7.16"
  }
 },
 "nbformat": 4,
 "nbformat_minor": 5
}
